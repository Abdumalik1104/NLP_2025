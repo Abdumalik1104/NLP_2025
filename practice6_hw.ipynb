{
 "cells": [
  {
   "cell_type": "code",
   "execution_count": 1,
   "metadata": {},
   "outputs": [],
   "source": [
    "import pandas as pd\n",
    "import numpy as np\n",
    "from tqdm import tqdm_notebook\n"
   ]
  },
  {
   "cell_type": "code",
   "execution_count": 2,
   "metadata": {},
   "outputs": [
    {
     "name": "stderr",
     "output_type": "stream",
     "text": [
      "C:\\Users\\user\\AppData\\Local\\Temp\\ipykernel_14184\\2382939539.py:1: DtypeWarning: Columns (3) have mixed types. Specify dtype option on import or set low_memory=False.\n",
      "  ds = pd.read_csv('lenta-ru-news.csv')\n"
     ]
    },
    {
     "data": {
      "text/html": [
       "<div>\n",
       "<style scoped>\n",
       "    .dataframe tbody tr th:only-of-type {\n",
       "        vertical-align: middle;\n",
       "    }\n",
       "\n",
       "    .dataframe tbody tr th {\n",
       "        vertical-align: top;\n",
       "    }\n",
       "\n",
       "    .dataframe thead th {\n",
       "        text-align: right;\n",
       "    }\n",
       "</style>\n",
       "<table border=\"1\" class=\"dataframe\">\n",
       "  <thead>\n",
       "    <tr style=\"text-align: right;\">\n",
       "      <th></th>\n",
       "      <th>url</th>\n",
       "      <th>title</th>\n",
       "      <th>text</th>\n",
       "      <th>topic</th>\n",
       "      <th>tags</th>\n",
       "      <th>date</th>\n",
       "    </tr>\n",
       "  </thead>\n",
       "  <tbody>\n",
       "    <tr>\n",
       "      <th>0</th>\n",
       "      <td>https://lenta.ru/news/1914/09/16/hungarnn/</td>\n",
       "      <td>1914. Русские войска вступили в пределы Венгрии</td>\n",
       "      <td>Бои у Сопоцкина и Друскеник закончились отступ...</td>\n",
       "      <td>Библиотека</td>\n",
       "      <td>Первая мировая</td>\n",
       "      <td>1914/09/16</td>\n",
       "    </tr>\n",
       "    <tr>\n",
       "      <th>1</th>\n",
       "      <td>https://lenta.ru/news/1914/09/16/lermontov/</td>\n",
       "      <td>1914. Празднование столетия М.Ю. Лермонтова от...</td>\n",
       "      <td>Министерство народного просвещения, в виду про...</td>\n",
       "      <td>Библиотека</td>\n",
       "      <td>Первая мировая</td>\n",
       "      <td>1914/09/16</td>\n",
       "    </tr>\n",
       "    <tr>\n",
       "      <th>2</th>\n",
       "      <td>https://lenta.ru/news/1914/09/17/nesteroff/</td>\n",
       "      <td>1914. Das ist Nesteroff!</td>\n",
       "      <td>Штабс-капитан П. Н. Нестеров на днях, увидев в...</td>\n",
       "      <td>Библиотека</td>\n",
       "      <td>Первая мировая</td>\n",
       "      <td>1914/09/17</td>\n",
       "    </tr>\n",
       "    <tr>\n",
       "      <th>3</th>\n",
       "      <td>https://lenta.ru/news/1914/09/17/bulldogn/</td>\n",
       "      <td>1914. Бульдог-гонец под Льежем</td>\n",
       "      <td>Фотограф-корреспондент Daily Mirror рассказыва...</td>\n",
       "      <td>Библиотека</td>\n",
       "      <td>Первая мировая</td>\n",
       "      <td>1914/09/17</td>\n",
       "    </tr>\n",
       "    <tr>\n",
       "      <th>4</th>\n",
       "      <td>https://lenta.ru/news/1914/09/18/zver/</td>\n",
       "      <td>1914. Под Люблином пойман швабский зверь</td>\n",
       "      <td>Лица, приехавшие в Варшаву из Люблина, передаю...</td>\n",
       "      <td>Библиотека</td>\n",
       "      <td>Первая мировая</td>\n",
       "      <td>1914/09/18</td>\n",
       "    </tr>\n",
       "  </tbody>\n",
       "</table>\n",
       "</div>"
      ],
      "text/plain": [
       "                                           url  \\\n",
       "0   https://lenta.ru/news/1914/09/16/hungarnn/   \n",
       "1  https://lenta.ru/news/1914/09/16/lermontov/   \n",
       "2  https://lenta.ru/news/1914/09/17/nesteroff/   \n",
       "3   https://lenta.ru/news/1914/09/17/bulldogn/   \n",
       "4       https://lenta.ru/news/1914/09/18/zver/   \n",
       "\n",
       "                                               title  \\\n",
       "0  1914. Русские войска вступили в пределы Венгрии     \n",
       "1  1914. Празднование столетия М.Ю. Лермонтова от...   \n",
       "2                           1914. Das ist Nesteroff!   \n",
       "3                    1914. Бульдог-гонец под Льежем    \n",
       "4           1914. Под Люблином пойман швабский зверь   \n",
       "\n",
       "                                                text       topic  \\\n",
       "0  Бои у Сопоцкина и Друскеник закончились отступ...  Библиотека   \n",
       "1  Министерство народного просвещения, в виду про...  Библиотека   \n",
       "2  Штабс-капитан П. Н. Нестеров на днях, увидев в...  Библиотека   \n",
       "3  Фотограф-корреспондент Daily Mirror рассказыва...  Библиотека   \n",
       "4  Лица, приехавшие в Варшаву из Люблина, передаю...  Библиотека   \n",
       "\n",
       "             tags        date  \n",
       "0  Первая мировая  1914/09/16  \n",
       "1  Первая мировая  1914/09/16  \n",
       "2  Первая мировая  1914/09/17  \n",
       "3  Первая мировая  1914/09/17  \n",
       "4  Первая мировая  1914/09/18  "
      ]
     },
     "execution_count": 2,
     "metadata": {},
     "output_type": "execute_result"
    }
   ],
   "source": [
    "ds = pd.read_csv('lenta-ru-news.csv')\n",
    "ds.head()"
   ]
  },
  {
   "cell_type": "code",
   "execution_count": 3,
   "metadata": {},
   "outputs": [
    {
     "data": {
      "text/plain": [
       "(800975, 6)"
      ]
     },
     "execution_count": 3,
     "metadata": {},
     "output_type": "execute_result"
    }
   ],
   "source": [
    "ds.shape"
   ]
  },
  {
   "cell_type": "code",
   "execution_count": 4,
   "metadata": {},
   "outputs": [
    {
     "data": {
      "text/plain": [
       "url          0\n",
       "title        0\n",
       "text         5\n",
       "topic    62002\n",
       "tags     27219\n",
       "date         0\n",
       "dtype: int64"
      ]
     },
     "execution_count": 4,
     "metadata": {},
     "output_type": "execute_result"
    }
   ],
   "source": [
    "ds.isnull().sum()"
   ]
  },
  {
   "cell_type": "code",
   "execution_count": 5,
   "metadata": {},
   "outputs": [
    {
     "data": {
      "text/plain": [
       "(712654, 6)"
      ]
     },
     "execution_count": 5,
     "metadata": {},
     "output_type": "execute_result"
    }
   ],
   "source": [
    "ds.dropna(inplace= True)\n",
    "ds.shape"
   ]
  },
  {
   "cell_type": "code",
   "execution_count": 6,
   "metadata": {},
   "outputs": [],
   "source": [
    "ds_sample = ds.sample(n=1000)\n",
    "ds_sample.to_csv('ds_sample.csv',index = False)"
   ]
  },
  {
   "cell_type": "code",
   "execution_count": 7,
   "metadata": {},
   "outputs": [],
   "source": [
    "new_data = pd.read_csv('ds_sample.csv')"
   ]
  },
  {
   "cell_type": "code",
   "execution_count": 8,
   "metadata": {},
   "outputs": [
    {
     "data": {
      "text/plain": [
       "(1000, 6)"
      ]
     },
     "execution_count": 8,
     "metadata": {},
     "output_type": "execute_result"
    }
   ],
   "source": [
    "new_data.dropna(inplace = True)\n",
    "new_data.shape"
   ]
  },
  {
   "cell_type": "markdown",
   "metadata": {},
   "source": [
    "# Data exploration"
   ]
  },
  {
   "cell_type": "code",
   "execution_count": 9,
   "metadata": {},
   "outputs": [],
   "source": [
    "from collections import Counter"
   ]
  },
  {
   "cell_type": "code",
   "execution_count": 10,
   "metadata": {},
   "outputs": [
    {
     "data": {
      "text/plain": [
       "Все                     615\n",
       "Политика                 49\n",
       "Общество                 42\n",
       "Украина                  28\n",
       "Происшествия             22\n",
       "Госэкономика             19\n",
       "Футбол                   19\n",
       "Интернет                 17\n",
       "Бизнес                   13\n",
       "ТВ и радио               13\n",
       "Люди                     12\n",
       "Кино                     12\n",
       "События                  11\n",
       "Следствие и суд          10\n",
       "Музыка                    8\n",
       "Наука                     6\n",
       "Криминал                  5\n",
       "Космос                    5\n",
       "Звери                     5\n",
       "Регионы                   5\n",
       "Конфликты                 5\n",
       "Явления                   5\n",
       "Рынки                     4\n",
       "Летние виды               4\n",
       "Преступность              4\n",
       "Искусство                 4\n",
       "Квартира                  4\n",
       "Техника                   3\n",
       "Пресса                    3\n",
       "Мир                       3\n",
       "Оружие                    3\n",
       "Зимние виды               3\n",
       "Инструменты               3\n",
       "Прибалтика                3\n",
       "Дача                      2\n",
       "Бокс и ММА                2\n",
       "Деньги                    2\n",
       "Софт                      2\n",
       "Деловой климат            2\n",
       "Полиция и спецслужбы      2\n",
       "Белоруссия                2\n",
       "Coцсети                   2\n",
       "Игры                      2\n",
       "Москва                    1\n",
       "Мировой бизнес            1\n",
       "Театр                     1\n",
       "Еда                       1\n",
       "Жизнь                     1\n",
       "Город                     1\n",
       "Движение                  1\n",
       "Книги                     1\n",
       "Стиль                     1\n",
       "Хоккей                    1\n",
       "Автобизнес                1\n",
       "Молдавия                  1\n",
       "Средняя Азия              1\n",
       "Госрегулирование          1\n",
       "История                   1\n",
       "Name: tags, dtype: int64"
      ]
     },
     "execution_count": 10,
     "metadata": {},
     "output_type": "execute_result"
    }
   ],
   "source": [
    "ds_sample['tags'].value_counts()"
   ]
  },
  {
   "cell_type": "code",
   "execution_count": 11,
   "metadata": {
    "scrolled": true
   },
   "outputs": [
    {
     "data": {
      "text/plain": [
       "Counter({'Футбол': 19,\n",
       "         'Все': 615,\n",
       "         'Госэкономика': 19,\n",
       "         'Общество': 42,\n",
       "         'Бизнес': 13,\n",
       "         'Coцсети': 2,\n",
       "         'Бокс и ММА': 2,\n",
       "         'Интернет': 17,\n",
       "         'Украина': 28,\n",
       "         'Прибалтика': 3,\n",
       "         'Конфликты': 5,\n",
       "         'Люди': 12,\n",
       "         'Мир': 3,\n",
       "         'Следствие и суд': 10,\n",
       "         'Музыка': 8,\n",
       "         'Политика': 49,\n",
       "         'События': 11,\n",
       "         'Явления': 5,\n",
       "         'Рынки': 4,\n",
       "         'ТВ и радио': 13,\n",
       "         'Происшествия': 22,\n",
       "         'Наука': 6,\n",
       "         'Госрегулирование': 1,\n",
       "         'Кино': 12,\n",
       "         'Игры': 2,\n",
       "         'Квартира': 4,\n",
       "         'Техника': 3,\n",
       "         'Звери': 5,\n",
       "         'Преступность': 4,\n",
       "         'Регионы': 5,\n",
       "         'Инструменты': 3,\n",
       "         'Средняя Азия': 1,\n",
       "         'Молдавия': 1,\n",
       "         'Автобизнес': 1,\n",
       "         'Зимние виды': 3,\n",
       "         'Пресса': 3,\n",
       "         'Белоруссия': 2,\n",
       "         'Оружие': 3,\n",
       "         'Полиция и спецслужбы': 2,\n",
       "         'Город': 1,\n",
       "         'Софт': 2,\n",
       "         'Хоккей': 1,\n",
       "         'Летние виды': 4,\n",
       "         'Деньги': 2,\n",
       "         'Космос': 5,\n",
       "         'Стиль': 1,\n",
       "         'Книги': 1,\n",
       "         'Движение': 1,\n",
       "         'Криминал': 5,\n",
       "         'Искусство': 4,\n",
       "         'Жизнь': 1,\n",
       "         'Еда': 1,\n",
       "         'Москва': 1,\n",
       "         'Театр': 1,\n",
       "         'Дача': 2,\n",
       "         'Деловой климат': 2,\n",
       "         'Мировой бизнес': 1,\n",
       "         'История': 1})"
      ]
     },
     "execution_count": 11,
     "metadata": {},
     "output_type": "execute_result"
    }
   ],
   "source": [
    "Counter(ds_sample.tags)"
   ]
  },
  {
   "cell_type": "code",
   "execution_count": 12,
   "metadata": {
    "scrolled": true
   },
   "outputs": [
    {
     "data": {
      "text/plain": [
       "{'Все': 453581,\n",
       " 'Политика': 33220,\n",
       " 'Общество': 27560,\n",
       " 'Украина': 17934,\n",
       " 'Происшествия': 15972,\n",
       " 'Футбол': 13128,\n",
       " 'Госэкономика': 12869,\n",
       " 'Кино': 9109,\n",
       " 'Бизнес': 8224,\n",
       " 'Интернет': 7945,\n",
       " 'Наука': 6975,\n",
       " 'Следствие и суд': 6825,\n",
       " 'Музыка': 5822,\n",
       " 'Люди': 5184,\n",
       " 'Преступность': 4737,\n",
       " 'Квартира': 3759,\n",
       " 'Космос': 3622,\n",
       " 'События': 3161,\n",
       " 'Конфликты': 3136,\n",
       " 'ТВ и радио': 3028,\n",
       " 'Coцсети': 2924,\n",
       " 'Летние виды': 2893,\n",
       " 'Деловой климат': 2656,\n",
       " 'Регионы': 2639,\n",
       " 'Криминал': 2550,\n",
       " 'Явления': 2523,\n",
       " 'Бокс и ММА': 2443,\n",
       " 'Звери': 2278,\n",
       " 'Город': 2247,\n",
       " 'Гаджеты': 2183,\n",
       " 'Мир': 2121,\n",
       " 'Стиль': 2090,\n",
       " 'Игры': 2072,\n",
       " 'Рынки': 2012,\n",
       " 'Пресса': 1805,\n",
       " 'Искусство': 1795,\n",
       " 'Зимние виды': 1677,\n",
       " 'Полиция и спецслужбы': 1635,\n",
       " 'Закавказье': 1442,\n",
       " 'Деньги': 1361,\n",
       " 'Москва': 1312,\n",
       " 'Прибалтика': 1242,\n",
       " 'Театр': 1217,\n",
       " 'Оружие': 1216,\n",
       " 'Техника': 1208,\n",
       " 'Книги': 1208,\n",
       " 'Средняя Азия': 1131,\n",
       " 'Дача': 1084,\n",
       " 'Белоруссия': 916,\n",
       " 'Хоккей': 915,\n",
       " 'Мировой бизнес': 854,\n",
       " 'Движение': 834,\n",
       " 'Офис': 783,\n",
       " 'Внешний вид': 727,\n",
       " 'Достижения': 718,\n",
       " 'Инструменты': 710,\n",
       " 'Россия': 706,\n",
       " 'Часы': 662,\n",
       " 'Софт': 652,\n",
       " 'Мнения': 615,\n",
       " 'Мемы': 477,\n",
       " 'Вирусные ролики': 474,\n",
       " 'Еда': 457,\n",
       " 'Молдавия': 439,\n",
       " 'Вещи': 424,\n",
       " 'Реклама': 389,\n",
       " 'История': 347,\n",
       " 'Жизнь': 333,\n",
       " 'Автобизнес': 310,\n",
       " 'Киберпреступность': 169,\n",
       " 'Финансы компаний': 155,\n",
       " 'Преступная Россия': 144,\n",
       " 'Авто': 141,\n",
       " 'Туризм': 85,\n",
       " 'Социальная сфера': 70,\n",
       " 'Первая мировая': 65,\n",
       " 'Вкусы': 54,\n",
       " 'Экология': 53,\n",
       " 'Наследие': 46,\n",
       " 'Госрегулирование': 41,\n",
       " 'Производители': 36,\n",
       " 'Аналитика рынка': 28,\n",
       " 'Фотография': 28,\n",
       " 'Страноведение': 21,\n",
       " 'Выборы': 11,\n",
       " 'Мировой опыт': 6,\n",
       " 'Вооружение': 3,\n",
       " 'Инновации': 1}"
      ]
     },
     "execution_count": 12,
     "metadata": {},
     "output_type": "execute_result"
    }
   ],
   "source": [
    "cntr = Counter(ds.tags)\n",
    "{k: v for k, v in sorted(cntr.items(), key=lambda item: item[1], reverse=True)}"
   ]
  },
  {
   "cell_type": "code",
   "execution_count": 26,
   "metadata": {},
   "outputs": [
    {
     "name": "stderr",
     "output_type": "stream",
     "text": [
      "C:\\Users\\user\\AppData\\Local\\Temp\\ipykernel_14184\\1762243782.py:18: TqdmDeprecationWarning: This function will be removed in tqdm==5.0.0\n",
      "Please use `tqdm.notebook.tqdm` instead of `tqdm.tqdm_notebook`\n",
      "  no_punc_text = [rem_punc(t) for t in tqdm_notebook(texts)]\n"
     ]
    },
    {
     "data": {
      "application/vnd.jupyter.widget-view+json": {
       "model_id": "d19971802a494ff6a0d874c6379e59fd",
       "version_major": 2,
       "version_minor": 0
      },
      "text/plain": [
       "  0%|          | 0/1000 [00:00<?, ?it/s]"
      ]
     },
     "metadata": {},
     "output_type": "display_data"
    }
   ],
   "source": [
    "texts = ds_sample.text.values\n",
    "#remove punctuation\n",
    "\n",
    "def rem_punc(t):\n",
    "# define punctuation\n",
    "    punctuations = '''!()-[]{};:'\"\\,<>./?@#$%^&*_~abcdefghijklmnopqrstuvwxyzABCDEFGHIJKLMNOPQRSTUVWXYZ1234567890'''\n",
    "\n",
    "\n",
    "# remove punctuation from the string\n",
    "    for c in punctuations:\n",
    "        t=t.replace(c,' ')\n",
    "\n",
    "\n",
    "# display the unpunctuated string\n",
    "    return t.replace('\\n',' ')\n",
    "\n",
    "\n",
    "no_punc_text = [rem_punc(t) for t in tqdm_notebook(texts)]"
   ]
  },
  {
   "cell_type": "code",
   "execution_count": 27,
   "metadata": {},
   "outputs": [
    {
     "name": "stderr",
     "output_type": "stream",
     "text": [
      "C:\\Users\\user\\AppData\\Local\\Temp\\ipykernel_14184\\1263936609.py:2: TqdmDeprecationWarning: This function will be removed in tqdm==5.0.0\n",
      "Please use `tqdm.notebook.tqdm` instead of `tqdm.tqdm_notebook`\n",
      "  lc_text = [t.lower() for t in tqdm_notebook(no_punc_text)]\n"
     ]
    },
    {
     "data": {
      "application/vnd.jupyter.widget-view+json": {
       "model_id": "b520ce469eaf457c8b410f5af8961768",
       "version_major": 2,
       "version_minor": 0
      },
      "text/plain": [
       "  0%|          | 0/1000 [00:00<?, ?it/s]"
      ]
     },
     "metadata": {},
     "output_type": "display_data"
    },
    {
     "data": {
      "text/plain": [
       "'серебряный призер олимпийских игр и чемпионка мира по волейболу екатерина гамова в интервью телеканалу «матч тв» рассказала об отношении к реакции соцсетей на ее критику в адрес футболистов сборной россии  «на самом деле очень удивилась и была в легком шоке  когда пошла эта волна возмущения  какие то дикие  для меня по крайней мере  заголовки   раскритиковала    дико возмущена … для меня это было несколько неожиданно… чтобы получить звание змс  нужно прыгнуть выше головы  и свое удивление выразила у себя в посте»  — заявила гамова     июля волейболистка выступила с критикой награждения футболистов сборной россии  дошедших до четвертьфинала чемпионата мира       по ее мнению  такой шаг обесценил звание заслуженных мастеров спорта  змс   некоторые спортсмены поддержали гамову  другие  например хоккеист илья ковальчук  встали на сторону футболистов  гамова получила звание змс в      году после того  как стала обладательницей серебряной медали олимпиады в сиднее в составе сборной россии  вместе со сборной волейболистка выиграла еще одно серебро игр        '"
      ]
     },
     "execution_count": 27,
     "metadata": {},
     "output_type": "execute_result"
    }
   ],
   "source": [
    "#lowercase\n",
    "lc_text = [t.lower() for t in tqdm_notebook(no_punc_text)]\n",
    "lc_text[0]"
   ]
  },
  {
   "cell_type": "code",
   "execution_count": 28,
   "metadata": {},
   "outputs": [
    {
     "name": "stderr",
     "output_type": "stream",
     "text": [
      "[nltk_data] Downloading package punkt to\n",
      "[nltk_data]     C:\\Users\\user\\AppData\\Roaming\\nltk_data...\n",
      "[nltk_data]   Unzipping tokenizers\\punkt.zip.\n",
      "[nltk_data] Downloading package punkt_tab to\n",
      "[nltk_data]     C:\\Users\\user\\AppData\\Roaming\\nltk_data...\n",
      "[nltk_data]   Unzipping tokenizers\\punkt_tab.zip.\n",
      "[nltk_data] Downloading package stopwords to\n",
      "[nltk_data]     C:\\Users\\user\\AppData\\Roaming\\nltk_data...\n",
      "[nltk_data]   Package stopwords is already up-to-date!\n"
     ]
    }
   ],
   "source": [
    "#stopword removal\n",
    "import nltk\n",
    "from nltk.corpus import stopwords\n",
    "import nltk\n",
    "nltk.download(\"punkt\")\n",
    "nltk.download(\"punkt_tab\")\n",
    "nltk.download(\"stopwords\")\n",
    "sw = stopwords.words('russian')"
   ]
  },
  {
   "cell_type": "code",
   "execution_count": 29,
   "metadata": {
    "collapsed": true,
    "jupyter": {
     "outputs_hidden": true
    }
   },
   "outputs": [
    {
     "data": {
      "text/plain": [
       "['и',\n",
       " 'в',\n",
       " 'во',\n",
       " 'не',\n",
       " 'что',\n",
       " 'он',\n",
       " 'на',\n",
       " 'я',\n",
       " 'с',\n",
       " 'со',\n",
       " 'как',\n",
       " 'а',\n",
       " 'то',\n",
       " 'все',\n",
       " 'она',\n",
       " 'так',\n",
       " 'его',\n",
       " 'но',\n",
       " 'да',\n",
       " 'ты',\n",
       " 'к',\n",
       " 'у',\n",
       " 'же',\n",
       " 'вы',\n",
       " 'за',\n",
       " 'бы',\n",
       " 'по',\n",
       " 'только',\n",
       " 'ее',\n",
       " 'мне',\n",
       " 'было',\n",
       " 'вот',\n",
       " 'от',\n",
       " 'меня',\n",
       " 'еще',\n",
       " 'нет',\n",
       " 'о',\n",
       " 'из',\n",
       " 'ему',\n",
       " 'теперь',\n",
       " 'когда',\n",
       " 'даже',\n",
       " 'ну',\n",
       " 'вдруг',\n",
       " 'ли',\n",
       " 'если',\n",
       " 'уже',\n",
       " 'или',\n",
       " 'ни',\n",
       " 'быть',\n",
       " 'был',\n",
       " 'него',\n",
       " 'до',\n",
       " 'вас',\n",
       " 'нибудь',\n",
       " 'опять',\n",
       " 'уж',\n",
       " 'вам',\n",
       " 'ведь',\n",
       " 'там',\n",
       " 'потом',\n",
       " 'себя',\n",
       " 'ничего',\n",
       " 'ей',\n",
       " 'может',\n",
       " 'они',\n",
       " 'тут',\n",
       " 'где',\n",
       " 'есть',\n",
       " 'надо',\n",
       " 'ней',\n",
       " 'для',\n",
       " 'мы',\n",
       " 'тебя',\n",
       " 'их',\n",
       " 'чем',\n",
       " 'была',\n",
       " 'сам',\n",
       " 'чтоб',\n",
       " 'без',\n",
       " 'будто',\n",
       " 'чего',\n",
       " 'раз',\n",
       " 'тоже',\n",
       " 'себе',\n",
       " 'под',\n",
       " 'будет',\n",
       " 'ж',\n",
       " 'тогда',\n",
       " 'кто',\n",
       " 'этот',\n",
       " 'того',\n",
       " 'потому',\n",
       " 'этого',\n",
       " 'какой',\n",
       " 'совсем',\n",
       " 'ним',\n",
       " 'здесь',\n",
       " 'этом',\n",
       " 'один',\n",
       " 'почти',\n",
       " 'мой',\n",
       " 'тем',\n",
       " 'чтобы',\n",
       " 'нее',\n",
       " 'сейчас',\n",
       " 'были',\n",
       " 'куда',\n",
       " 'зачем',\n",
       " 'всех',\n",
       " 'никогда',\n",
       " 'можно',\n",
       " 'при',\n",
       " 'наконец',\n",
       " 'два',\n",
       " 'об',\n",
       " 'другой',\n",
       " 'хоть',\n",
       " 'после',\n",
       " 'над',\n",
       " 'больше',\n",
       " 'тот',\n",
       " 'через',\n",
       " 'эти',\n",
       " 'нас',\n",
       " 'про',\n",
       " 'всего',\n",
       " 'них',\n",
       " 'какая',\n",
       " 'много',\n",
       " 'разве',\n",
       " 'три',\n",
       " 'эту',\n",
       " 'моя',\n",
       " 'впрочем',\n",
       " 'хорошо',\n",
       " 'свою',\n",
       " 'этой',\n",
       " 'перед',\n",
       " 'иногда',\n",
       " 'лучше',\n",
       " 'чуть',\n",
       " 'том',\n",
       " 'нельзя',\n",
       " 'такой',\n",
       " 'им',\n",
       " 'более',\n",
       " 'всегда',\n",
       " 'конечно',\n",
       " 'всю',\n",
       " 'между']"
      ]
     },
     "execution_count": 29,
     "metadata": {},
     "output_type": "execute_result"
    }
   ],
   "source": [
    "sw"
   ]
  },
  {
   "cell_type": "code",
   "execution_count": 30,
   "metadata": {},
   "outputs": [
    {
     "name": "stdout",
     "output_type": "stream",
     "text": [
      "Original: ['Я', 'очень', 'люблю', 'изучать', 'обработку', 'естественного', 'языка']\n",
      "Without stopwords: ['очень', 'люблю', 'изучать', 'обработку', 'естественного', 'языка']\n"
     ]
    }
   ],
   "source": [
    "text = \"Я очень люблю изучать обработку естественного языка\"\n",
    "\n",
    "# tokenize into words\n",
    "words = nltk.word_tokenize(text, language=\"russian\")\n",
    "\n",
    "# filter out stopwords\n",
    "filtered = [w for w in words if w.lower() not in sw]\n",
    "\n",
    "print(\"Original:\", words)\n",
    "print(\"Without stopwords:\", filtered)"
   ]
  },
  {
   "cell_type": "code",
   "execution_count": 31,
   "metadata": {},
   "outputs": [
    {
     "data": {
      "text/html": [
       "<div>\n",
       "<style scoped>\n",
       "    .dataframe tbody tr th:only-of-type {\n",
       "        vertical-align: middle;\n",
       "    }\n",
       "\n",
       "    .dataframe tbody tr th {\n",
       "        vertical-align: top;\n",
       "    }\n",
       "\n",
       "    .dataframe thead th {\n",
       "        text-align: right;\n",
       "    }\n",
       "</style>\n",
       "<table border=\"1\" class=\"dataframe\">\n",
       "  <thead>\n",
       "    <tr style=\"text-align: right;\">\n",
       "      <th></th>\n",
       "      <th>url</th>\n",
       "      <th>title</th>\n",
       "      <th>text</th>\n",
       "      <th>topic</th>\n",
       "      <th>tags</th>\n",
       "      <th>date</th>\n",
       "    </tr>\n",
       "  </thead>\n",
       "  <tbody>\n",
       "    <tr>\n",
       "      <th>0</th>\n",
       "      <td>https://lenta.ru/news/1914/09/16/hungarnn/</td>\n",
       "      <td>1914. Русские войска вступили в пределы Венгрии</td>\n",
       "      <td>Бои у Сопоцкина и Друскеник закончились отступ...</td>\n",
       "      <td>Библиотека</td>\n",
       "      <td>Первая мировая</td>\n",
       "      <td>1914/09/16</td>\n",
       "    </tr>\n",
       "    <tr>\n",
       "      <th>1</th>\n",
       "      <td>https://lenta.ru/news/1914/09/16/lermontov/</td>\n",
       "      <td>1914. Празднование столетия М.Ю. Лермонтова от...</td>\n",
       "      <td>Министерство народного просвещения, в виду про...</td>\n",
       "      <td>Библиотека</td>\n",
       "      <td>Первая мировая</td>\n",
       "      <td>1914/09/16</td>\n",
       "    </tr>\n",
       "    <tr>\n",
       "      <th>2</th>\n",
       "      <td>https://lenta.ru/news/1914/09/17/nesteroff/</td>\n",
       "      <td>1914. Das ist Nesteroff!</td>\n",
       "      <td>Штабс-капитан П. Н. Нестеров на днях, увидев в...</td>\n",
       "      <td>Библиотека</td>\n",
       "      <td>Первая мировая</td>\n",
       "      <td>1914/09/17</td>\n",
       "    </tr>\n",
       "    <tr>\n",
       "      <th>3</th>\n",
       "      <td>https://lenta.ru/news/1914/09/17/bulldogn/</td>\n",
       "      <td>1914. Бульдог-гонец под Льежем</td>\n",
       "      <td>Фотограф-корреспондент Daily Mirror рассказыва...</td>\n",
       "      <td>Библиотека</td>\n",
       "      <td>Первая мировая</td>\n",
       "      <td>1914/09/17</td>\n",
       "    </tr>\n",
       "    <tr>\n",
       "      <th>4</th>\n",
       "      <td>https://lenta.ru/news/1914/09/18/zver/</td>\n",
       "      <td>1914. Под Люблином пойман швабский зверь</td>\n",
       "      <td>Лица, приехавшие в Варшаву из Люблина, передаю...</td>\n",
       "      <td>Библиотека</td>\n",
       "      <td>Первая мировая</td>\n",
       "      <td>1914/09/18</td>\n",
       "    </tr>\n",
       "  </tbody>\n",
       "</table>\n",
       "</div>"
      ],
      "text/plain": [
       "                                           url  \\\n",
       "0   https://lenta.ru/news/1914/09/16/hungarnn/   \n",
       "1  https://lenta.ru/news/1914/09/16/lermontov/   \n",
       "2  https://lenta.ru/news/1914/09/17/nesteroff/   \n",
       "3   https://lenta.ru/news/1914/09/17/bulldogn/   \n",
       "4       https://lenta.ru/news/1914/09/18/zver/   \n",
       "\n",
       "                                               title  \\\n",
       "0  1914. Русские войска вступили в пределы Венгрии     \n",
       "1  1914. Празднование столетия М.Ю. Лермонтова от...   \n",
       "2                           1914. Das ist Nesteroff!   \n",
       "3                    1914. Бульдог-гонец под Льежем    \n",
       "4           1914. Под Люблином пойман швабский зверь   \n",
       "\n",
       "                                                text       topic  \\\n",
       "0  Бои у Сопоцкина и Друскеник закончились отступ...  Библиотека   \n",
       "1  Министерство народного просвещения, в виду про...  Библиотека   \n",
       "2  Штабс-капитан П. Н. Нестеров на днях, увидев в...  Библиотека   \n",
       "3  Фотограф-корреспондент Daily Mirror рассказыва...  Библиотека   \n",
       "4  Лица, приехавшие в Варшаву из Люблина, передаю...  Библиотека   \n",
       "\n",
       "             tags        date  \n",
       "0  Первая мировая  1914/09/16  \n",
       "1  Первая мировая  1914/09/16  \n",
       "2  Первая мировая  1914/09/17  \n",
       "3  Первая мировая  1914/09/17  \n",
       "4  Первая мировая  1914/09/18  "
      ]
     },
     "execution_count": 31,
     "metadata": {},
     "output_type": "execute_result"
    }
   ],
   "source": [
    "ds.head()"
   ]
  },
  {
   "cell_type": "code",
   "execution_count": 32,
   "metadata": {},
   "outputs": [
    {
     "data": {
      "text/plain": [
       "'1914. Русские войска вступили в\\xa0пределы Венгрии  '"
      ]
     },
     "execution_count": 32,
     "metadata": {},
     "output_type": "execute_result"
    }
   ],
   "source": [
    "ds['title'][0]"
   ]
  },
  {
   "cell_type": "code",
   "execution_count": 33,
   "metadata": {},
   "outputs": [],
   "source": [
    "words = nltk.word_tokenize(ds['title'][0], language=\"russian\")\n"
   ]
  },
  {
   "cell_type": "code",
   "execution_count": 34,
   "metadata": {},
   "outputs": [
    {
     "data": {
      "text/plain": [
       "['1914', '.', 'Русские', 'войска', 'вступили', 'в', 'пределы', 'Венгрии']"
      ]
     },
     "execution_count": 34,
     "metadata": {},
     "output_type": "execute_result"
    }
   ],
   "source": [
    "words"
   ]
  },
  {
   "cell_type": "code",
   "execution_count": 35,
   "metadata": {},
   "outputs": [
    {
     "name": "stderr",
     "output_type": "stream",
     "text": [
      "C:\\Users\\user\\AppData\\Local\\Temp\\ipykernel_14184\\2221718624.py:5: TqdmDeprecationWarning: This function will be removed in tqdm==5.0.0\n",
      "Please use `tqdm.notebook.tqdm` instead of `tqdm.tqdm_notebook`\n",
      "  for t in tqdm_notebook(lc_text)\n"
     ]
    },
    {
     "data": {
      "application/vnd.jupyter.widget-view+json": {
       "model_id": "92b5a76b52ce4aa481bd1f78299f6ba9",
       "version_major": 2,
       "version_minor": 0
      },
      "text/plain": [
       "  0%|          | 0/1000 [00:00<?, ?it/s]"
      ]
     },
     "metadata": {},
     "output_type": "display_data"
    },
    {
     "name": "stderr",
     "output_type": "stream",
     "text": [
      "C:\\Users\\user\\AppData\\Local\\Temp\\ipykernel_14184\\2221718624.py:14: TqdmDeprecationWarning: This function will be removed in tqdm==5.0.0\n",
      "Please use `tqdm.notebook.tqdm` instead of `tqdm.tqdm_notebook`\n",
      "  for t in tqdm_notebook(ds_sample[\"no_stop\"])\n"
     ]
    },
    {
     "data": {
      "application/vnd.jupyter.widget-view+json": {
       "model_id": "2acea42f5d8440b1a6c5caac37574c9e",
       "version_major": 2,
       "version_minor": 0
      },
      "text/plain": [
       "  0%|          | 0/1000 [00:00<?, ?it/s]"
      ]
     },
     "metadata": {},
     "output_type": "display_data"
    }
   ],
   "source": [
    "# Clean the data set from stop words\n",
    "# your code\n",
    "ds_sample[\"no_stop\"] = [\n",
    "    \" \".join([w for w in nltk.word_tokenize(t, language=\"russian\") if w.lower() not in sw])\n",
    "    for t in tqdm_notebook(lc_text)\n",
    "]\n",
    "\n",
    "# -- apply stemming\n",
    "from nltk.stem.snowball import RussianStemmer\n",
    "stemmer = RussianStemmer()\n",
    "\n",
    "ds_sample[\"clean_text\"] = [\n",
    "    \" \".join([stemmer.stem(w) for w in nltk.word_tokenize(t, language=\"russian\")])\n",
    "    for t in tqdm_notebook(ds_sample[\"no_stop\"])\n",
    "]\n",
    "\n",
    "# -- resave the file.csv\n",
    "ds_sample.to_csv(\"ds_sample_cleaned.csv\", index=False)"
   ]
  },
  {
   "cell_type": "code",
   "execution_count": 36,
   "metadata": {},
   "outputs": [
    {
     "name": "stdout",
     "output_type": "stream",
     "text": [
      "Before:\n",
      " 725033    Серебряный призер Олимпийских игр и чемпионка ...\n",
      "296917    На курортном острове Пхукет в Таиланде в воскр...\n",
      "508591    Еврокомиссар по энергетике Гюнтер Эттингер при...\n",
      "548441    Валентина Матвиенко высказалась за лишение соз...\n",
      "100088    Российский ВПК занимает второе в мире место по...\n",
      "Name: text, dtype: object\n",
      "\n",
      "Without stopwords:\n",
      " 725033    серебряный призер олимпийских игр чемпионка ми...\n",
      "296917    курортном острове пхукет таиланде воскресенье ...\n",
      "508591    еврокомиссар энергетике гюнтер эттингер пригро...\n",
      "548441    валентина матвиенко высказалась лишение сознат...\n",
      "100088    российский впк занимает второе мире место объе...\n",
      "Name: no_stop, dtype: object\n",
      "\n",
      "After stemming:\n",
      " 725033    серебрян призер олимпийск игр чемпионк мир вол...\n",
      "296917    курортн остров пхукет таиланд воскресен август...\n",
      "508591    еврокомиссар энергетик гюнтер эттингер пригроз...\n",
      "548441    валентин матвиенк высказа лишен сознательн нер...\n",
      "100088    российск впк занима втор мир мест объем продаж...\n",
      "Name: clean_text, dtype: object\n"
     ]
    }
   ],
   "source": [
    "print(\"Before:\\n\", ds_sample[\"text\"].head())\n",
    "print(\"\\nWithout stopwords:\\n\", ds_sample[\"no_stop\"].head())\n",
    "print(\"\\nAfter stemming:\\n\", ds_sample[\"clean_text\"].head())"
   ]
  }
 ],
 "metadata": {
  "kernelspec": {
   "display_name": "base",
   "language": "python",
   "name": "python3"
  },
  "language_info": {
   "codemirror_mode": {
    "name": "ipython",
    "version": 3
   },
   "file_extension": ".py",
   "mimetype": "text/x-python",
   "name": "python",
   "nbconvert_exporter": "python",
   "pygments_lexer": "ipython3",
   "version": "3.9.13"
  }
 },
 "nbformat": 4,
 "nbformat_minor": 4
}
